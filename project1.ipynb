{
 "cells": [
  {
   "cell_type": "markdown",
   "id": "398c3307",
   "metadata": {},
   "source": [
    "# Project 1: Assembling Genes"
   ]
  },
  {
   "cell_type": "markdown",
   "id": "5df2b641",
   "metadata": {},
   "source": [
    "   <div class=\"alert alert-block alert-danger\">\n",
    "    <center>Due: <b>Monday, September 5, 8:59pm</b>.</center> \n",
    "   </div>\n",
    "   \n",
    "   <div class=\"alert alert-block alert-warning\">\n",
    "   <center>\n",
    "       <b>Collaboration and Resource Policy</b>\n",
    "    </center>\n",
    "    \n",
    "For this assignment, you are encouraged to work with one other person satisfying the constraints from Class 2. \n",
    "You are permitted (actually _encouraged_) to discuss these problems with anyone you want, including other students in the class. If you do discuss the specific questions in the assignment with anyone other than your assignment partner and the course staff, though, you should list them in the _External resources used_ section below.\n",
    "    \n",
    "You are welcome to use any resources you want for this assignment, other than ones that would defeat the purpose of the assignment. This means you should not look at answers or code from previous semesters of this course, or from any other students in the class (other than your collaboration with your partner), and if you find code that implements the problem you are being asked to do for the assignment, you should not use that code. You should document all external resource you use that are not part of the course materials in the _External resources used_ section below.\n",
    "    </div>"
   ]
  },
  {
   "cell_type": "markdown",
   "source": [
    "**Team submitting this assignment:**  \n",
    "<div class=\"alert alert-success\">\n",
    "    <b><em>list each member of your team here, including both your name and UVA computing id</em></b>\n",
    "\n",
    "Team Members (Names): Alison Lu, Alexander Maksiaev\n",
    "\n",
    "Team Member UVA Computing IDs: atl9rn, aim4fn\n",
    "\n",
    "</div>\n",
    "\n",
    "**External resources used:** \n",
    "<div class=\"alert alert-success\">\n",
    "<em>It is not necessary to list the course materials, but if you used any other resources, including discussing problems with students not on your team, list them here.</em>\n",
    "    \n",
    "External Resources Used: http://data-science-sequencing.github.io/Win2018/lectures/lecture6/ (Question 1.2, greedy algorithm), https://training.galaxyproject.org/training-material/topics/assembly/tutorials/algorithms-introduction/slides-plain.html and https://www.cs.jhu.edu/~langmea/resources/lecture_notes/assembly_dbg.pdf (Question 1.3, graphing), https://www.python.org/doc/essays/graphs/ (Question 1.3, ideas for how to graph), https://cp-algorithms.com/graph/euler_path.html#algorithm (Question 1.3, how to find an Euler path), https://www.geeksforgeeks.org/stack-in-python/ (Question 1.3, how to use a stack in python), Jack the TA (general), https://9to5science.com/euler-path-for-directed-graph (Question 1.3, psuedocode)\n",
    "\n",
    "</div>"
   ],
   "metadata": {
    "collapsed": false,
    "pycharm": {
     "name": "#%% md\n"
    }
   }
  },
  {
   "cell_type": "markdown",
   "source": [
    "In this project, we will explore genome assembly—the process of determining the order of nucleotides in DNA from fragmented reads. As you might have studied in the reading assignments, genome assembly can get quite complicated, as problems such as full sequence coverage, finding a good length for reads (the $k$ in $k$-mer), and sequencing errors present challenges for sequencing analysis and accuracy. You can assume perfect coverage for all parts of the assignment and no read errors for the first two questions.\n",
    "\n",
    "\n",
    "<b>Submission</b>: Please submit the code you wrote to generate your answers for all parts using this form: <a href=\"https://forms.gle/rNTXfYojTLEQ8idg6\"><em>https://forms.gle/rNTXfYojTLEQ8idg6</em></a>. Your answers should be in the Jupyter Notebook, along with your code. Before submission, you should make a copy of your notebook file with the name <i>uvaid1\\_uvaid2.ipynb</i> (where <i>uvaidn</i> is each teammates UVA id) so the submitted file identifies you. You and your partner should submit a single file once together. Submission is due 8:59 pm (EST) on Monday, September 5."
   ],
   "metadata": {
    "collapsed": false,
    "pycharm": {
     "name": "#%% md\n"
    }
   }
  },
  {
   "cell_type": "markdown",
   "source": [
    "## Install basic required packages."
   ],
   "metadata": {
    "collapsed": false,
    "pycharm": {
     "name": "#%% md\n"
    }
   }
  },
  {
   "cell_type": "markdown",
   "source": [
    "- Install basic required packages, should be run only once. You may need to restart the kernel after this stage.\n",
    "- Make sure you have [graphviz](https://graphviz.org/download/) installed on your system.\n",
    "- The second cell adds Graphviz to your path, you may have to change based on where the install folder is.\n",
    "\n",
    "<b>NOTE: We provide utils.py, which may contain helpful functions for you to use, as well as gvmagic.py, which is a deprecated package to use graphviz within the notebook</b>"
   ],
   "metadata": {
    "collapsed": false,
    "pycharm": {
     "name": "#%% md\n"
    }
   }
  },
  {
   "cell_type": "code",
   "execution_count": null,
   "outputs": [],
   "source": [
    "%pip install -r requirements.txt"
   ],
   "metadata": {
    "collapsed": false,
    "pycharm": {
     "name": "#%%\n"
    }
   }
  },
  {
   "cell_type": "code",
   "execution_count": null,
   "outputs": [],
   "source": [
    "import os\n",
    "os.environ[\"PATH\"] += os.pathsep + 'C:/Program Files/Graphviz/bin'"
   ],
   "metadata": {
    "collapsed": false,
    "pycharm": {
     "name": "#%%\n"
    }
   }
  },
  {
   "cell_type": "markdown",
   "source": [
    "## Genome Assembly\n",
    "\n",
    "For this part, you're given reads generated while trying to sequence the DNA of a TeleTubby (some unknown organism) with a \\textit{very} small genetic code. By answering the following questions, you will learn how to assemble the original genome sequence from sequence reads.\n",
    "\n",
    "Sequencing data is often stored in FASTQ file format. In TeleTubby.fastq, you will find the data organized in a particular order that repeats every four lines. The first line contains the metadata that encodes the name of the read, the experiment type, the kind of sequencing machine used, etc. The second line is the sequence of bases. The third line functions as a placeholder line. The fourth line is a sequence of base qualities that encode the qualities for the corresponding bases in the sequence line. We will only work with the sequence and quality score lines in this question."
   ],
   "metadata": {
    "collapsed": false,
    "pycharm": {
     "name": "#%% md\n"
    }
   }
  },
  {
   "cell_type": "code",
   "execution_count": null,
   "outputs": [],
   "source": [
    "import collections\n",
    "import matplotlib.pyplot as plt\n",
    "import numpy as np\n",
    "import utils\n",
    "from tqdm import tqdm"
   ],
   "metadata": {
    "collapsed": false,
    "pycharm": {
     "name": "#%%\n"
    }
   }
  },
  {
   "cell_type": "markdown",
   "source": [
    "#### Question 1.1.1 GC-content\n",
    "\n",
    "The GC-content (or the ratio of G and C nucleotides) is related to the melting temperature of the DNA double helix. Use the following equation to calculate the melting temperature of DNA for TeleTubby $t_m$ in Celsius:\n",
    "\n",
    "\\begin{equation*}\n",
    "t_m = 64.9+0.41(\\%GC)-\\frac{500}{\\text{length of sequence}}\n",
    "\\end{equation*}\n",
    "\n",
    "As a reference, the human genome is known to have between 35%-60% GC-content. "
   ],
   "metadata": {
    "collapsed": false,
    "pycharm": {
     "name": "#%% md\n"
    }
   }
  },
  {
   "cell_type": "code",
   "execution_count": null,
   "outputs": [],
   "source": [
    "# Read sequence reads (error-free) from file\n",
    "sequence_reads, qualities = utils.read_fastq('TeleTubby.fastq')\n",
    "\n",
    "# Calculate %GC content\n",
    "length = len(sequence_reads)\n",
    "gc = 0\n",
    "total = 0\n",
    "for gen in sequence_reads:\n",
    "    for nuc in gen:\n",
    "        if nuc == 'G' or nuc == 'C':\n",
    "            gc += 1\n",
    "        total += 1\n",
    "gc_content = gc/total\n",
    "\n",
    "temp = 64.9 + 0.41*gc_content - 500/length\n",
    "\n",
    "# Print out temperature in Celsius\n",
    "print(temp)"
   ],
   "metadata": {
    "collapsed": false,
    "pycharm": {
     "name": "#%%\n"
    }
   }
  },
  {
   "cell_type": "markdown",
   "source": [
    "#### Question 1.1.2 Interpreting quality scores"
   ],
   "metadata": {
    "collapsed": false,
    "pycharm": {
     "name": "#%% md\n"
    }
   }
  },
  {
   "cell_type": "markdown",
   "source": [
    "Phred33 quality scores are represented as the character with an ASCII code equal to its value + 33 (to make them easy to print alongside genome sequences). List the top 5 most frequent scores in ASCII symbol as well as their Phredd33 scores in TeleTubby.fastq. You can refer to the [official Illumina website](https://support.illumina.com/help/BaseSpace_OLH_009008/Content/Source/Informatics/BS/QualityScoreEncoding_swBS.htm) to reference the scoring encoding.\n",
    "\n",
    "What is the average Phred33 score in TeleTubby.fastq?"
   ],
   "metadata": {
    "collapsed": false,
    "pycharm": {
     "name": "#%% md\n"
    }
   }
  },
  {
   "cell_type": "code",
   "execution_count": null,
   "outputs": [],
   "source": [
    "# Calculate and print average Phred33 score\n",
    "average = 0\n",
    "total = 0\n",
    "for ch in qualities: # Qualities do not hold genes, they hold seemingly random characters\n",
    "    for c in ch:\n",
    "        phred33 = ord(c) - 33\n",
    "        average += phred33\n",
    "        total += 1\n",
    "average = average/total\n",
    "print(average) # Q is ~34.48, 99% accuracy"
   ],
   "metadata": {
    "collapsed": false,
    "pycharm": {
     "name": "#%%\n"
    }
   }
  },
  {
   "cell_type": "markdown",
   "source": [
    "#### Question 1.1.3 Frequency analysis\n",
    "\n",
    "Looking at repetitions in the sequence can be helpful in estimating the \"redudancy\" in the organisms. Humand and other evolved animals have a lot of redundancy, while smaller organisms like bacteria have highly packed genomes. One heuristic to estimate this before actually performing the assembly could be looking at how often certain $k$-mers are repeated.\n",
    "\n",
    "<b>Print out the 3 most frequent k-mers with their frequencies</b>"
   ],
   "metadata": {
    "collapsed": false,
    "pycharm": {
     "name": "#%% md\n"
    }
   }
  },
  {
   "cell_type": "code",
   "execution_count": null,
   "outputs": [],
   "source": [
    "kmers = {}\n",
    "for gen in sequence_reads:\n",
    "    if gen not in kmers:\n",
    "        kmers[gen] = 1\n",
    "    else:\n",
    "        kmers[gen] += 1\n",
    "\n",
    "kmers3 = []\n",
    "for key in kmers.keys():\n",
    "    if kmers[key] != 1: # assumption that 3 most frequent k-mers appear more than once\n",
    "        if len(kmers3) > 2:\n",
    "            min = 0\n",
    "            c = 0\n",
    "            for i in kmers3:\n",
    "                if min > kmers[i]:\n",
    "                    min = kmers[i]\n",
    "                    c = i\n",
    "            del kmers3[c]\n",
    "        kmers3.append(key)\n",
    "\n",
    "print([f\"{i}: {kmers[i]}\" for i in kmers3])"
   ],
   "metadata": {
    "collapsed": false,
    "pycharm": {
     "name": "#%%\n"
    }
   }
  },
  {
   "cell_type": "markdown",
   "source": [
    "### Question 1.2. Greedy approach"
   ],
   "metadata": {
    "collapsed": false,
    "pycharm": {
     "name": "#%% md\n"
    }
   }
  },
  {
   "cell_type": "markdown",
   "source": [
    "One of the approaches to assemble the genome from the given reads is a greedy algorithm. Have a look at the greedy algorithm described on [Wikipedia](https://en.wikipedia.org/wiki/Sequence_assembly#Greedy_algorithm) and answer the following."
   ],
   "metadata": {
    "collapsed": false,
    "pycharm": {
     "name": "#%% md\n"
    }
   }
  },
  {
   "cell_type": "markdown",
   "source": [
    "#### Question 1.2.1 What would the runtime be of this algorithm, given $n$ $k$-mer reads?"
   ],
   "metadata": {
    "collapsed": false,
    "pycharm": {
     "name": "#%% md\n"
    }
   }
  },
  {
   "cell_type": "markdown",
   "source": [
    "<i>Answer</i>: The runtime would be O(k * n^2) because not only does the algorithm have to compare each k-mer to every other k-mer (a problem which is n^2), it also has to take into account the k in the reads, and multiply each k-mer by k. "
   ],
   "metadata": {
    "collapsed": false,
    "pycharm": {
     "name": "#%% md\n"
    }
   }
  },
  {
   "cell_type": "markdown",
   "source": [
    "#### Question 1.2.2 Would this algorithm always yield a unique solution?"
   ],
   "metadata": {
    "collapsed": false,
    "pycharm": {
     "name": "#%% md\n"
    }
   }
  },
  {
   "cell_type": "markdown",
   "source": [
    "<i>Answer</i>: No this algorithm would not always yield a unique solution. If fragments share the same overlap, different fragments would be paired each time the algorithm was run."
   ],
   "metadata": {
    "collapsed": false,
    "pycharm": {
     "name": "#%% md\n"
    }
   }
  },
  {
   "cell_type": "markdown",
   "source": [
    "#### Question 1.2.3 Would this algorithm always yield the <i>right</i> solution?"
   ],
   "metadata": {
    "collapsed": false,
    "pycharm": {
     "name": "#%% md\n"
    }
   }
  },
  {
   "cell_type": "markdown",
   "source": [
    "<i>Answer</i>: No since the right solution is a unique solution. Since the algorithm could potentially return a different solution, it could potentially return a wrong one."
   ],
   "metadata": {
    "collapsed": false,
    "pycharm": {
     "name": "#%% md\n"
    }
   }
  },
  {
   "cell_type": "markdown",
   "source": [
    "### Question 1.3 Graph-based approaches"
   ],
   "metadata": {
    "collapsed": false,
    "pycharm": {
     "name": "#%% md\n"
    }
   }
  },
  {
   "cell_type": "markdown",
   "source": [
    "Graphs for genome assembly can be constructed in two ways:\n",
    "\n",
    "- Overlap graph: Processing $k-$mers as nodes, with $(k-1)-$mers as edges, and\n",
    "- de Bruijn graph: Processing $k-$mers as edges, with $(k-1)-$mers as nodes.\n",
    "\n",
    "de Bruijn graphs can be processed to find Euler paths, while Overlap graphs can be processed to find Hamiltonian paths. Both of these are valid ways to reconstruct the original genome.\n",
    "\n",
    "<b>Use one of these two techniques to reconstruct the sequence, and print out your reconstructed sequence. Which method did you pick out of the two, and why? (hint: imagine what would happen when we have millions of reads). Use the k-mers provided in TeleTubby.fastq</b>.\n",
    "\n",
    "We provide some skeleton code that you may use, but you may also come up with your own solution."
   ],
   "metadata": {
    "collapsed": false,
    "pycharm": {
     "name": "#%% md\n"
    }
   }
  },
  {
   "cell_type": "code",
   "execution_count": null,
   "outputs": [],
   "source": [
    "# Read reads into graph -- Use the de Bruijn graph approach, because we have a smaller amount of reads. \n",
    "\n",
    "# def build_graph(k_mers): # these are 8-mers\n",
    "#     edges = []\n",
    "#     nodes = set(k_mers) # Because we are using de Bruijn, we are processing k-mers as nodes\n",
    "#     new_nodes = set(k_mers) # Make another set of nodes so we can iterate through that and add to the first one without changing the size\n",
    "#     # Split the 8-mers into left and right 7-mers -- that is, (k-1)-mers\n",
    "#     for node in new_nodes:\n",
    "#         edg = [] # Create a miniature list to represent the drawn edge from point A to point B\n",
    "#         left = node[0:(len(node)-1)]\n",
    "#         right = node[1:len(node)]\n",
    "#         edg.append(left)\n",
    "#         edg.append(right)\n",
    "#         edges.append(edg) # Attach the mini-lists to the big edge list\n",
    "#         nodes.add(left) # Don't forget to attach the nodes to the nodes set\n",
    "#         nodes.add(right)\n",
    "#     return nodes, edges\n",
    "\n",
    "\n",
    "def build_graph(k_mers): # these are 8-mers\n",
    "    edges = []\n",
    "    nodes = []\n",
    "    for node in k_mers:\n",
    "        edg = [] # Create a miniature list to represent the drawn edge from point A to point B\n",
    "        left = node[0:(len(node)-1)]\n",
    "        right = node[1:len(node)]\n",
    "        edg.append(left)\n",
    "        edg.append(right)\n",
    "        edges.append(edg) # Attach the mini-lists to the big edge list\n",
    "        nodes.append(left) # Don't forget to attach the nodes to the nodes set\n",
    "        nodes.append(right)\n",
    "    return nodes, edges\n",
    "\n",
    "nodes, edges = build_graph(sequence_reads)\n",
    "\n",
    "# print(edges)"
   ],
   "metadata": {
    "collapsed": false,
    "pycharm": {
     "name": "#%%\n"
    }
   }
  },
  {
   "cell_type": "code",
   "execution_count": null,
   "outputs": [],
   "source": [
    "# Implement assembly algorithm -- see above"
   ],
   "metadata": {
    "collapsed": false,
    "pycharm": {
     "name": "#%%\n"
    }
   }
  },
  {
   "cell_type": "code",
   "execution_count": null,
   "outputs": [],
   "source": [
    "# Print assembled sequence -- see graph below"
   ],
   "metadata": {
    "collapsed": false,
    "pycharm": {
     "name": "#%%\n"
    }
   }
  },
  {
   "cell_type": "code",
   "execution_count": null,
   "outputs": [],
   "source": [
    "# Needed to properly visualize graphs\n",
    "%load_ext gvmagic"
   ],
   "metadata": {
    "collapsed": false,
    "pycharm": {
     "name": "#%%\n"
    }
   }
  },
  {
   "cell_type": "code",
   "execution_count": null,
   "outputs": [],
   "source": [
    "# Helper function to visualize de Bruijn graphs\n",
    "%dotstr utils.viz_debruijn(nodes, edges)"
   ],
   "metadata": {
    "collapsed": false,
    "pycharm": {
     "name": "#%%\n"
    }
   }
  },
  {
   "cell_type": "code",
   "execution_count": null,
   "outputs": [],
   "source": [
    "# Main assembly algorithm -- Create Euler path \n",
    "\n",
    "def assemble_sequence(nodes, edges):\n",
    "    \n",
    "    # Make a new list of nodes \n",
    "    nodes2 = []\n",
    "    for node in nodes:\n",
    "        nodes2.append(node)\n",
    "\n",
    "    # adjacency list, degree list\n",
    "    adjlist = {}\n",
    "    degreeV = {}\n",
    "    for n in nodes:\n",
    "        adjlist[n] = []\n",
    "        degreeV[n] = 0\n",
    "        \n",
    "    for e in edges:\n",
    "        source = e[0]\n",
    "        dest = e[1]\n",
    "        adjlist[dest].append(source)\n",
    "        # degreeV[source] += 1\n",
    "        degreeV[dest] += 1\n",
    "    \n",
    "    # stack = [nodes2[0]]\n",
    "    stack = []\n",
    "    for n in nodes:\n",
    "        if degreeV[n] > 0:\n",
    "            stack.append(n)\n",
    "            break\n",
    "        \n",
    "    \n",
    "    sequence_stack = []\n",
    "    \n",
    "    while len(stack) > 0:\n",
    "        # V = stack.peek()\n",
    "        v = stack[-1]\n",
    "        if degreeV[v] >= 0 and len(adjlist[v]) > 0:\n",
    "            v_parent = adjlist[v].pop()   # second end of any edge coming out of V\n",
    "            degreeV[v] -= 1        # delete edge by popping off adjlist and subtracting degree\n",
    "            stack.append(v_parent)\n",
    "        else:\n",
    "            sequence_stack.append(v)   # add V to the answer\n",
    "            stack.pop()\n",
    "        # print(f\"len(stack) {len(stack)} v {v} adjlist {adjlist[v]}\")\n",
    "    \n",
    "    assembled_sequence = sequence_stack[0]\n",
    "    # print(len(sequence_stack))\n",
    "    # print(len(sequence_reads))\n",
    "    for i in range(1,len(sequence_stack)):\n",
    "        assembled_sequence += sequence_stack[i][-1]    # append last letter\n",
    "    # print(len(assembled_sequence))\n",
    "    # print(len(sequence_stack))\n",
    "        \n",
    "    return assembled_sequence"
   ],
   "metadata": {
    "collapsed": false,
    "pycharm": {
     "name": "#%%\n"
    }
   }
  },
  {
   "cell_type": "code",
   "execution_count": null,
   "outputs": [],
   "source": [
    "# Output assembled sequence\n",
    "\n",
    "assembled_seq = assemble_sequence(nodes, edges)"
   ],
   "metadata": {
    "collapsed": false,
    "pycharm": {
     "name": "#%%\n"
    }
   }
  },
  {
   "cell_type": "code",
   "execution_count": null,
   "outputs": [],
   "source": [
    "print(assembled_seq)"
   ],
   "metadata": {
    "collapsed": false,
    "pycharm": {
     "name": "#%%\n"
    }
   }
  },
  {
   "cell_type": "markdown",
   "source": [
    "## Question 2 - Sequencing SARS-CoV-2 virus"
   ],
   "metadata": {
    "collapsed": false,
    "pycharm": {
     "name": "#%% md\n"
    }
   }
  },
  {
   "cell_type": "markdown",
   "source": [
    "Let's move on from TeleTubbies to real-world organisms. Let's start small- with a variant of the SARS-CoV-2 virus. You're given reads from <i>actual</i> genome sequencing runs in the SARS-CoV2.fastq file provided.\n",
    "\n",
    "Repeat Question 1.3 on this data. You can re-use your implementation and simply run it on the new data. Print out your reconstructed sequence to a file \"output.txt\". For this part, we will still assume that all the reads are error-free. Set $k=25$."
   ],
   "metadata": {
    "collapsed": false,
    "pycharm": {
     "name": "#%% md\n"
    }
   }
  },
  {
   "cell_type": "code",
   "execution_count": null,
   "outputs": [],
   "source": [
    "# Read sequence reads\n",
    "sequence_reads_covid, qualities_covid = utils.read_fastq('SARS-CoV2.fastq')"
   ],
   "metadata": {
    "collapsed": false,
    "pycharm": {
     "name": "#%%\n"
    }
   }
  },
  {
   "cell_type": "code",
   "execution_count": null,
   "outputs": [],
   "source": [
    "# Read reads into graph\n",
    "nodes_covid, edges_covid = build_graph(sequence_reads_covid)"
   ],
   "metadata": {
    "collapsed": false,
    "pycharm": {
     "name": "#%%\n"
    }
   }
  },
  {
   "cell_type": "code",
   "execution_count": null,
   "outputs": [],
   "source": [
    "# Call main assembly algorithm\n",
    "assembled_covid_seq = assemble_sequence(nodes_covid, edges_covid)\n",
    "\n",
    "print(assembled_covid_seq)"
   ],
   "metadata": {
    "collapsed": false,
    "pycharm": {
     "name": "#%%\n"
    }
   }
  },
  {
   "cell_type": "code",
   "execution_count": null,
   "outputs": [],
   "source": [
    "# Write assembled sequence to file\n",
    "\n",
    "# assmebled_seq = \"AAACGAACAATGTTTGTTTTTCTTG\" # Use your assembled genome\n",
    "assmebled_seq = assembled_covid_seq\n",
    "with open(\"covid_overlap.txt\", \"w\") as f:\n",
    "    f.write(assmebled_seq)"
   ],
   "metadata": {
    "collapsed": false,
    "pycharm": {
     "name": "#%%\n"
    }
   }
  },
  {
   "cell_type": "markdown",
   "source": [
    "# Question 3- Error-Aware Assembly (Extra Credit)"
   ],
   "metadata": {
    "collapsed": false,
    "pycharm": {
     "name": "#%% md\n"
    }
   }
  },
  {
   "cell_type": "markdown",
   "source": [
    "In the parts above, we assumed error-free reads while assembling $k$-mers. As much as we'd like that, actual reads can (and do) have errors, captured by their Phred scores. For this question, you're given raw, actual reads from sequencing runs (download reads here: https://sra-pub-sars-cov2.s3.amazonaws.com/sra-src/SRR11528307/ABS2-LN-R1_cleaned_paired.fastq.gz).  Given these reads and their Phred33 scores, can you assemble the genome?\n",
    "\n",
    "<b>Print out your assembled sequence, along with a brief explanation of how your algorithm works</b>\n",
    "\n",
    "This is an open-ended question. You are free to use any approach to deal with the issue. Make sure you provide your code, along with any assumptions you may have, in the cells below."
   ],
   "metadata": {
    "collapsed": false,
    "pycharm": {
     "name": "#%% md\n"
    }
   }
  },
  {
   "cell_type": "code",
   "execution_count": null,
   "outputs": [],
   "source": [
    "sequence_bonus, q = utils.read_fastq('ABS2-LN-R1_cleaned_paired.fastq')\n",
    "print(len(sequences))\n",
    "print(len(sequences[0]))"
   ],
   "metadata": {
    "collapsed": false,
    "pycharm": {
     "name": "#%%\n"
    }
   }
  },
  {
   "cell_type": "code",
   "execution_count": null,
   "outputs": [],
   "source": [
    "# Calculate and print average Phred33 score\n",
    "\n",
    "average = 0\n",
    "total = 0\n",
    "for ch in q:\n",
    "    for c in ch:\n",
    "        phred33 = ord(c) - 33\n",
    "        average += phred33\n",
    "        total += 1\n",
    "average = average/total\n",
    "print(average) # Q is ~35.98, 99% accuracy"
   ],
   "metadata": {
    "collapsed": false,
    "pycharm": {
     "name": "#%%\n"
    }
   }
  },
  {
   "cell_type": "code",
   "execution_count": null,
   "outputs": [],
   "source": [
    "# Given probability of a wrong answer, it's more likely that you'll have a decent match -- just getting the average for the score is good enough\n",
    "# function to check to see if the sequence has a duplicate in the nodes with only one nucleotide from the pair changed\n",
    "def similarity(nodes, sequence):\n",
    "    if sequence in nodes: # If there is a duplicate with no changes, return false\n",
    "        return False\n",
    "    \n",
    "    for i in range(len(sequence)): # For each nucleotide in the sequence (k-mer)\n",
    "        nucleotide = sequence[i] # Check the nucleotide's index position\n",
    "        if nucleotide == 'C': # If it's C, we want to check if there is an identical-ish sequence with T in C's spot\n",
    "            fixed_string = sequence[:i] + \"T\" + sequence[i+1:]\n",
    "        elif nucleotide == 'T': # If it's T, we want to check if there is an identical-ish sequence with C in T's spot\n",
    "            fixed_string = sequence[:i] + \"C\" + sequence[i+1:]\n",
    "        else: # If it's A, we want to check if there is an identical-ish sequence wiht G in A's spot\n",
    "            # We don't check for G because the most common error is if G was switched to A\n",
    "            fixed_string = sequence[:i] + \"G\" + sequence[i+1:]\n",
    "            \n",
    "        if fixed_string in nodes: # If there is a similar sequence, return true\n",
    "            return True  \n",
    "    return False\n",
    "    \n",
    "\n",
    "# C&T, A&G are similar. keeping second occurrence for C&T\n",
    "# if there is k_mer with G and k_mer with A, keep the k_mer with G\n",
    "\n",
    "def build_graph_with_error(k_mers):\n",
    "    k = len(k_mers[0]) # k = 148\n",
    "    edges = []\n",
    "    nodes = []\n",
    "    for node in k_mers:\n",
    "        edg = [] # Create a miniature list to represent the drawn edge from point A to point B\n",
    "        left = node[0:(len(node)-1)]\n",
    "        right = node[1:len(node)]\n",
    "        edg.append(left)\n",
    "        edg.append(right)\n",
    "        edges.append(edg) # Attach the mini-lists to the big edge list\n",
    "        # If there are no similarities in the list, then add the k-mer to the nodes\n",
    "        if not similarity(nodes,left):\n",
    "            nodes.append(left) # Don't forget to attach the nodes to the nodes set\n",
    "        if not similarity(nodes,right):\n",
    "            nodes.append(right)\n",
    "            \n",
    "    return nodes, edges"
   ],
   "metadata": {
    "collapsed": false,
    "pycharm": {
     "name": "#%%\n"
    }
   }
  },
  {
   "cell_type": "code",
   "execution_count": null,
   "outputs": [],
   "source": [
    "# https://www.ncbi.nlm.nih.gov/pmc/articles/PMC2873906/\n",
    "nodes_bonus, edges_bonus = build_graph_with_error(sequence_bonus)\n",
    "assembled_bonus = assemble_sequence(nodes, edges)\n"
   ],
   "metadata": {
    "collapsed": false,
    "pycharm": {
     "name": "#%%\n"
    }
   }
  },
  {
   "cell_type": "code",
   "execution_count": null,
   "outputs": [],
   "source": [
    "print(assembled_bonus)\n",
    "with open(\"assembled_bonus.txt\", \"w\") as f:\n",
    "    f.write(assembled_bonus)"
   ],
   "metadata": {
    "collapsed": false,
    "pycharm": {
     "name": "#%%\n"
    }
   }
  },
  {
   "cell_type": "code",
   "execution_count": null,
   "id": "6fdfda49",
   "metadata": {},
   "outputs": [],
   "source": []
  }
 ],
 "metadata": {
  "kernelspec": {
   "display_name": "Python 3 (ipykernel)",
   "language": "python",
   "name": "python3"
  },
  "language_info": {
   "codemirror_mode": {
    "name": "ipython",
    "version": 3
   },
   "file_extension": ".py",
   "mimetype": "text/x-python",
   "name": "python",
   "nbconvert_exporter": "python",
   "pygments_lexer": "ipython3",
   "version": "3.10.6"
  }
 },
 "nbformat": 4,
 "nbformat_minor": 5
}