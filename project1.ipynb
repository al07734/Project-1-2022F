{
 "cells": [
  {
   "cell_type": "markdown",
   "id": "398c3307",
   "metadata": {},
   "source": [
    "# Project 1: Assembling Genes"
   ]
  },
  {
   "cell_type": "markdown",
   "id": "5df2b641",
   "metadata": {},
   "source": [
    "   <div class=\"alert alert-block alert-danger\">\n",
    "    <center>Due: <b>Monday, September 5, 8:59pm</b>.</center> \n",
    "   </div>\n",
    "   \n",
    "   <div class=\"alert alert-block alert-warning\">\n",
    "   <center>\n",
    "       <b>Collaboration and Resource Policy</b>\n",
    "    </center>\n",
    "    \n",
    "For this assignment, you are encouraged to work with one other person satisfying the constraints from Class 2. \n",
    "You are permitted (actually _encouraged_) to discuss these problems with anyone you want, including other students in the class. If you do discuss the specific questions in the assignment with anyone other than your assignment partner and the course staff, though, you should list them in the _External resources used_ section below.\n",
    "    \n",
    "You are welcome to use any resources you want for this assignment, other than ones that would defeat the purpose of the assignment. This means you should not look at answers or code from previous semesters of this course, or from any other students in the class (other than your collaboration with your partner), and if you find code that implements the problem you are being asked to do for the assignment, you should not use that code. You should document all external resource you use that are not part of the course materials in the _External resources used_ section below.\n",
    "    </div>"
   ]
  },
  {
   "cell_type": "markdown",
   "id": "4abf7404",
   "metadata": {},
   "source": [
    "**Team submitting this assignment:**  \n",
    "<div class=\"alert alert-success\">\n",
    "    <b><em>list each member of your team here, including both your name and UVA computing id</em></b>\n",
    "\n",
    "Team Members (Names): Alison, Alexander \n",
    "\n",
    "Team Member UVA Computing IDs: atl9rn, aim4fn\n",
    "\n",
    "</div>\n",
    "\n",
    "**External resources used:** \n",
    "<div class=\"alert alert-success\">\n",
    "<em>It is not necessary to list the course materials, but if you used any other resources, including discussing problems with students not on your team, list them here.</em>\n",
    "    \n",
    "External Resources Used:\n",
    "\n",
    "</div>"
   ]
  },
  {
   "cell_type": "markdown",
   "id": "f87422d3",
   "metadata": {},
   "source": [
    "In this project, we will explore genome assembly—the process of determining the order of nucleotides in DNA from fragmented reads. As you might have studied in the reading assignments, genome assembly can get quite complicated, as problems such as full sequence coverage, finding a good length for reads (the $k$ in $k$-mer), and sequencing errors present challenges for sequencing analysis and accuracy. You can assume perfect coverage for all parts of the assignment and no read errors for the first two questions.\n",
    "\n",
    "\n",
    "<b>Submission</b>: Please submit the code you wrote to generate your answers for all parts using this form: <a href=\"https://forms.gle/rNTXfYojTLEQ8idg6\"><em>https://forms.gle/rNTXfYojTLEQ8idg6</em></a>. Your answers should be in the Jupyter Notebook, along with your code. Before submission, you should make a copy of your notebook file with the name <i>uvaid1\\_uvaid2.ipynb</i> (where <i>uvaidn</i> is each teammates UVA id) so the submitted file identifies you. You and your partner should submit a single file once together. Submission is due 8:59 pm (EST) on Monday, September 5."
   ]
  },
  {
   "cell_type": "markdown",
   "id": "c962af56",
   "metadata": {},
   "source": [
    "## Install basic required packages."
   ]
  },
  {
   "cell_type": "markdown",
   "id": "ece44948",
   "metadata": {},
   "source": [
    "- Install basic required packages, should be run only once. You may need to restart the kernel after this stage.\n",
    "- Make sure you have [graphviz](https://graphviz.org/download/) installed on your system.\n",
    "- The second cell adds Graphviz to your path, you may have to change based on where the install folder is.\n",
    "\n",
    "<b>NOTE: We provide utils.py, which may contain helpful functions for you to use, as well as gvmagic.py, which is a deprecated package to use graphviz within the notebook</b>"
   ]
  },
  {
   "cell_type": "code",
   "execution_count": 6,
   "id": "5a7f5d5a",
   "metadata": {},
   "outputs": [
    {
     "name": "stdout",
     "output_type": "stream",
     "text": [
      "Requirement already satisfied: numpy in c:\\users\\owner\\appdata\\local\\programs\\python\\python310\\lib\\site-packages (from -r requirements.txt (line 1)) (1.23.2)\n",
      "Requirement already satisfied: matplotlib in c:\\users\\owner\\appdata\\local\\programs\\python\\python310\\lib\\site-packages (from -r requirements.txt (line 2)) (3.5.3)\n",
      "Requirement already satisfied: pydot in c:\\users\\owner\\appdata\\local\\programs\\python\\python310\\lib\\site-packages (from -r requirements.txt (line 3)) (1.4.2)\n",
      "Requirement already satisfied: graphviz in c:\\users\\owner\\appdata\\local\\programs\\python\\python310\\lib\\site-packages (from -r requirements.txt (line 4)) (0.20.1)\n",
      "Requirement already satisfied: pillow>=6.2.0 in c:\\users\\owner\\appdata\\local\\programs\\python\\python310\\lib\\site-packages (from matplotlib->-r requirements.txt (line 2)) (9.2.0)\n",
      "Requirement already satisfied: cycler>=0.10 in c:\\users\\owner\\appdata\\local\\programs\\python\\python310\\lib\\site-packages (from matplotlib->-r requirements.txt (line 2)) (0.11.0)\n",
      "Requirement already satisfied: fonttools>=4.22.0 in c:\\users\\owner\\appdata\\local\\programs\\python\\python310\\lib\\site-packages (from matplotlib->-r requirements.txt (line 2)) (4.37.1)\n",
      "Requirement already satisfied: kiwisolver>=1.0.1 in c:\\users\\owner\\appdata\\local\\programs\\python\\python310\\lib\\site-packages (from matplotlib->-r requirements.txt (line 2)) (1.4.4)\n",
      "Requirement already satisfied: pyparsing>=2.2.1 in c:\\users\\owner\\appdata\\local\\programs\\python\\python310\\lib\\site-packages (from matplotlib->-r requirements.txt (line 2)) (3.0.9)\n",
      "Requirement already satisfied: python-dateutil>=2.7 in c:\\users\\owner\\appdata\\local\\programs\\python\\python310\\lib\\site-packages (from matplotlib->-r requirements.txt (line 2)) (2.8.2)\n",
      "Requirement already satisfied: packaging>=20.0 in c:\\users\\owner\\appdata\\local\\programs\\python\\python310\\lib\\site-packages (from matplotlib->-r requirements.txt (line 2)) (21.3)\n",
      "Requirement already satisfied: six>=1.5 in c:\\users\\owner\\appdata\\local\\programs\\python\\python310\\lib\\site-packages (from python-dateutil>=2.7->matplotlib->-r requirements.txt (line 2)) (1.16.0)\n",
      "Note: you may need to restart the kernel to use updated packages.\n"
     ]
    }
   ],
   "source": [
    "%pip install -r requirements.txt"
   ]
  },
  {
   "cell_type": "code",
   "execution_count": 7,
   "id": "e8a8ccd5",
   "metadata": {},
   "outputs": [],
   "source": [
    "import os\n",
    "os.environ[\"PATH\"] += os.pathsep + 'C:/Program Files/Graphviz/bin'"
   ]
  },
  {
   "cell_type": "markdown",
   "id": "5f39e108",
   "metadata": {},
   "source": [
    "## Genome Assembly\n",
    "\n",
    "For this part, you're given reads generated while trying to sequence the DNA of a TeleTubby (some unknown organism) with a \\textit{very} small genetic code. By answering the following questions, you will learn how to assemble the original genome sequence from sequence reads.\n",
    "\n",
    "Sequencing data is often stored in FASTQ file format. In TeleTubby.fastq, you will find the data organized in a particular order that repeats every four lines. The first line contains the metadata that encodes the name of the read, the experiment type, the kind of sequencing machine used, etc. The second line is the sequence of bases. The third line functions as a placeholder line. The fourth line is a sequence of base qualities that encode the qualities for the corresponding bases in the sequence line. We will only work with the sequence and quality score lines in this question."
   ]
  },
  {
   "cell_type": "code",
   "execution_count": 2,
   "id": "806bd73e",
   "metadata": {},
   "outputs": [
    {
     "ename": "ModuleNotFoundError",
     "evalue": "No module named 'tqdm'",
     "output_type": "error",
     "traceback": [
      "\u001b[1;31m---------------------------------------------------------------------------\u001b[0m",
      "\u001b[1;31mModuleNotFoundError\u001b[0m                       Traceback (most recent call last)",
      "Input \u001b[1;32mIn [2]\u001b[0m, in \u001b[0;36m<cell line: 5>\u001b[1;34m()\u001b[0m\n\u001b[0;32m      3\u001b[0m \u001b[38;5;28;01mimport\u001b[39;00m \u001b[38;5;21;01mnumpy\u001b[39;00m \u001b[38;5;28;01mas\u001b[39;00m \u001b[38;5;21;01mnp\u001b[39;00m\n\u001b[0;32m      4\u001b[0m \u001b[38;5;28;01mimport\u001b[39;00m \u001b[38;5;21;01mutils\u001b[39;00m\n\u001b[1;32m----> 5\u001b[0m \u001b[38;5;28;01mfrom\u001b[39;00m \u001b[38;5;21;01mtqdm\u001b[39;00m \u001b[38;5;28;01mimport\u001b[39;00m tqdm\n",
      "\u001b[1;31mModuleNotFoundError\u001b[0m: No module named 'tqdm'"
     ]
    }
   ],
   "source": [
    "import collections\n",
    "import matplotlib.pyplot as plt\n",
    "import numpy as np\n",
    "import utils\n",
    "from tqdm import tqdm"
   ]
  },
  {
   "cell_type": "markdown",
   "id": "0e199a38",
   "metadata": {},
   "source": [
    "#### Question 1.1.1 GC-content\n",
    "\n",
    "The GC-content (or the ratio of G and C nucleotides) is related to the melting temperature of the DNA double helix. Use the following equation to calculate the melting temperature of DNA for TeleTubby $t_m$ in Celsius:\n",
    "\n",
    "\\begin{equation*}\n",
    "t_m = 64.9+0.41(\\%GC)-\\frac{500}{\\text{length of sequence}}\n",
    "\\end{equation*}\n",
    "\n",
    "As a reference, the human genome is known to have between 35%-60% GC-content. "
   ]
  },
  {
   "cell_type": "code",
   "execution_count": 11,
   "id": "b153b47c",
   "metadata": {},
   "outputs": [
    {
     "name": "stdout",
     "output_type": "stream",
     "text": [
      "63.390119453924925\n"
     ]
    }
   ],
   "source": [
    "# Read sequence reads (error-free) from file\n",
    "sequence_reads, qualities = utils.read_fastq('TeleTubby.fastq')\n",
    "\n",
    "# Calculate %GC content\n",
    "length = len(sequence_reads)\n",
    "gc = 0\n",
    "total = 0\n",
    "for gen in sequence_reads:\n",
    "    for nuc in gen:\n",
    "        if nuc == 'G' or nuc == 'C':\n",
    "            gc += 1\n",
    "        total += 1\n",
    "gc_content = gc/total\n",
    "\n",
    "temp = 64.9 + 0.41*gc_content - 500/length\n",
    "\n",
    "# Print out temperature in Celsius\n",
    "print(temp)"
   ]
  },
  {
   "cell_type": "markdown",
   "id": "652738f8",
   "metadata": {},
   "source": [
    "#### Question 1.1.2 Interpreting quality scores"
   ]
  },
  {
   "cell_type": "markdown",
   "id": "61a01087",
   "metadata": {},
   "source": [
    "Phred33 quality scores are represented as the character with an ASCII code equal to its value + 33 (to make them easy to print alongside genome sequences). List the top 5 most frequent scores in ASCII symbol as well as their Phredd33 scores in TeleTubby.fastq. You can refer to the [official Illumina website](https://support.illumina.com/help/BaseSpace_OLH_009008/Content/Source/Informatics/BS/QualityScoreEncoding_swBS.htm) to reference the scoring encoding.\n",
    "\n",
    "What is the average Phred33 score in TeleTubby.fastq?"
   ]
  },
  {
   "cell_type": "code",
   "execution_count": 16,
   "id": "693779a3",
   "metadata": {},
   "outputs": [
    {
     "name": "stdout",
     "output_type": "stream",
     "text": [
      "25.0\n"
     ]
    }
   ],
   "source": [
    "# Calculate and print average Phred33 score\n",
    "average = 0\n",
    "total = 0\n",
    "for gen in qualities:\n",
    "    phred33 = ord(nuc) - 33\n",
    "    average += phred33\n",
    "    total += 1\n",
    "average = average/total\n",
    "print(average) # Q is 25, between 99% and 99.9% accuracy"
   ]
  },
  {
   "cell_type": "markdown",
   "id": "2cf56c03",
   "metadata": {},
   "source": [
    "#### Question 1.1.3 Frequency analysis\n",
    "\n",
    "Looking at repetitions in the sequence can be helpful in estimating the \"redudancy\" in the organisms. Humand and other evolved animals have a lot of redundancy, while smaller organisms like bacteria have highly packed genomes. One heuristic to estimate this before actually performing the assembly could be looking at how often certain $k$-mers are repeated.\n",
    "\n",
    "<b>Print out the 3 most frequent k-mers with their frequencies</b>"
   ]
  },
  {
   "cell_type": "code",
   "execution_count": 28,
   "id": "34808d9f",
   "metadata": {},
   "outputs": [
    {
     "name": "stdout",
     "output_type": "stream",
     "text": [
      "['GCTATCGC: 3', 'TATCGCAA: 2', 'CTATCGCA: 2']\n"
     ]
    }
   ],
   "source": [
    "kmers = {}\n",
    "for gen in sequence_reads:\n",
    "    if gen not in kmers:\n",
    "        kmers[gen] = 1\n",
    "    else:\n",
    "        kmers[gen] += 1\n",
    "\n",
    "kmers3 = []\n",
    "for key in kmers.keys():\n",
    "    if kmers[key] != 1: # assumption that 3 most frequent k-mers appear more than once\n",
    "        if len(kmers3) > 2:\n",
    "            min = 0\n",
    "            c = 0\n",
    "            for i in kmers3:\n",
    "                if min > kmers[i]:\n",
    "                    min = kmers[i]\n",
    "                    c = i\n",
    "            del kmers3[c]\n",
    "        kmers3.append(key)\n",
    "\n",
    "print([f\"{i}: {kmers[i]}\" for i in kmers3])"
   ]
  },
  {
   "cell_type": "markdown",
   "id": "8038e9d2",
   "metadata": {},
   "source": [
    "### Question 1.2. Greedy approach"
   ]
  },
  {
   "cell_type": "markdown",
   "id": "cdd7e524",
   "metadata": {},
   "source": [
    "One of the approaches to assemble the genome from the given reads is a greedy algorithm. Have a look at the greedy algorithm described on [Wikipedia](https://en.wikipedia.org/wiki/Sequence_assembly#Greedy_algorithm) and answer the following."
   ]
  },
  {
   "cell_type": "markdown",
   "id": "da407b0c",
   "metadata": {},
   "source": [
    "#### Question 1.2.1 What would the runtime be of this algorithm, given $n$ $k$-mer reads?"
   ]
  },
  {
   "cell_type": "markdown",
   "id": "7da55821",
   "metadata": {},
   "source": [
    "<i>Answer</i>: The runtime would be O(n). Joining the n k-mers requires n k-mer reads. The algorithm has to read each k-mer before it joins it."
   ]
  },
  {
   "cell_type": "markdown",
   "id": "305f69f0",
   "metadata": {},
   "source": [
    "#### Question 1.2.2 Would this algorithm always yield a unique solution?"
   ]
  },
  {
   "cell_type": "markdown",
   "id": "0dbfcc9c",
   "metadata": {},
   "source": [
    "<i>Answer</i>: No this algorithm would not always yield a unique solution. If fragments share the same overlap, different fragments would be paired each time the algorithm was run."
   ]
  },
  {
   "cell_type": "markdown",
   "id": "73ae0d32",
   "metadata": {},
   "source": [
    "#### Question 1.2.3 Would this algorithm always yield the <i>right</i> solution?"
   ]
  },
  {
   "cell_type": "markdown",
   "id": "f17d77bb",
   "metadata": {},
   "source": [
    "<i>Answer</i>: No since the right solution is a unique solution. Since the algorithm could potentially return a different solution, it could potentially return a wrong one."
   ]
  },
  {
   "cell_type": "markdown",
   "id": "be401197",
   "metadata": {},
   "source": [
    "### Question 1.3 Graph-based approaches"
   ]
  },
  {
   "cell_type": "markdown",
   "id": "dd874725",
   "metadata": {},
   "source": [
    "Graphs for genome assembly can be constructed in two ways:\n",
    "\n",
    "- de Bruijn graph: Processing $k-$mers as nodes, with $(k-1)-$mers as edges, and\n",
    "- Overlap graph: Processing $k-$mers as edges, with $(k-1)-$mers as nodes.\n",
    "\n",
    "de Bruijn graphs can be processed to find Euler paths, while Overlap graphs can be processed to find Hamiltonian paths. Both of these are valid ways to reconstruct the original genome.\n",
    "\n",
    "<b>Use one of these two techniques to reconstruct the sequence, and print out your reconstructed sequence. Which method did you pick out of the two, and why? (hint: imagine what would happen when we have millions of reads). Use the k-mers provided in TeleTubby.fastq</b>.\n",
    "\n",
    "We provide some skeleton code that you may use, but you may also come up with your own solution."
   ]
  },
  {
   "cell_type": "code",
   "execution_count": null,
   "id": "839547d4",
   "metadata": {},
   "outputs": [],
   "source": [
    "# Read reads into graph\n",
    "\n",
    "def build_graph(k_mers):\n",
    "    edges = []\n",
    "    nodes = set()\n",
    "    # Your code here\n",
    "    return nodes, edges\n",
    "\n",
    "nodes, edges = build_graph(sequence_reads)"
   ]
  },
  {
   "cell_type": "code",
   "execution_count": null,
   "id": "9f9c1ba0",
   "metadata": {},
   "outputs": [],
   "source": [
    "# Implement assembly algorithm"
   ]
  },
  {
   "cell_type": "code",
   "execution_count": null,
   "id": "8cc0562c",
   "metadata": {},
   "outputs": [],
   "source": [
    "# Print assembled sequence"
   ]
  },
  {
   "cell_type": "code",
   "execution_count": null,
   "id": "eb960a69",
   "metadata": {},
   "outputs": [],
   "source": [
    "# Needed to properly visualize graphs\n",
    "%load_ext gvmagic"
   ]
  },
  {
   "cell_type": "code",
   "execution_count": null,
   "id": "cca14efc",
   "metadata": {},
   "outputs": [],
   "source": [
    "# Helper function to visualize de Bruijn graphs\n",
    "%dotstr utils.viz_debruijn(nodes_bruijn, edges_bruijn)"
   ]
  },
  {
   "cell_type": "code",
   "execution_count": null,
   "id": "33072b3d",
   "metadata": {},
   "outputs": [],
   "source": [
    "# Main assembly algorithm\n",
    "\n",
    "def assemble_sequence(nodes, edges):\n",
    "    assembled_sequence = \"\"\n",
    "    # Your code here\n",
    "    return assembled_sequence"
   ]
  },
  {
   "cell_type": "code",
   "execution_count": null,
   "id": "80ff3d0f",
   "metadata": {},
   "outputs": [],
   "source": [
    "# Output assembled sequence\n",
    "\n",
    "assmebled_seq = assemble_sequence(nodes, edges)"
   ]
  },
  {
   "cell_type": "markdown",
   "id": "ec3e41a0",
   "metadata": {},
   "source": [
    "## Question 2 - Sequencing SARS-CoV-2 virus"
   ]
  },
  {
   "cell_type": "markdown",
   "id": "0220b59f",
   "metadata": {},
   "source": [
    "Let's move on from TeleTubbies to real-world organisms. Let's start small- with a variant of the SARS-CoV-2 virus. You're given reads from <i>actual</i> genome sequencing runs in the SARS-CoV2.fastq file provided.\n",
    "\n",
    "Repeat Question 1.3 on this data. You can re-use your implementation and simply run it on the new data. Print out your reconstructed sequence to a file \"output.txt\". For this part, we will still assume that all the reads are error-free. Set $k=25$."
   ]
  },
  {
   "cell_type": "code",
   "execution_count": null,
   "id": "8ffd7224",
   "metadata": {},
   "outputs": [],
   "source": [
    "# Read sequence reads\n",
    "sequence_reads_covid, qualities_covid = utils.read_fastq('SARS-CoV2.fastq')"
   ]
  },
  {
   "cell_type": "code",
   "execution_count": null,
   "id": "c457b40e",
   "metadata": {},
   "outputs": [],
   "source": [
    "# Read reads into graph\n",
    "nodes_covid, edges_covid = build_graph(sequence_reads_covid)"
   ]
  },
  {
   "cell_type": "code",
   "execution_count": null,
   "id": "820d1b66",
   "metadata": {},
   "outputs": [],
   "source": [
    "# Call main assembly algorithm\n",
    "assmebled_covid_seq = assemble_sequence(nodes_covid, edges_covid)"
   ]
  },
  {
   "cell_type": "code",
   "execution_count": null,
   "id": "1a0aeb92",
   "metadata": {},
   "outputs": [],
   "source": [
    "# Write assembled sequence to file\n",
    "\n",
    "assmebled_seq = \"\" # Use your assembled genome\n",
    "with open(\"covid_overlap.txt\", \"w\") as f:\n",
    "    f.write(assmebled_seq)"
   ]
  },
  {
   "cell_type": "markdown",
   "id": "8481abdd",
   "metadata": {},
   "source": [
    "# Question 3- Error-Aware Assembly (Extra Credit)"
   ]
  },
  {
   "cell_type": "markdown",
   "id": "fa0efeb2",
   "metadata": {},
   "source": [
    "In the parts above, we assumed error-free reads while assembling $k$-mers. As much as we'd like that, actual reads can (and do) have errors, captured by their Phred scores. For this question, you're given raw, actual reads from sequencing runs (download reads here: https://sra-pub-sars-cov2.s3.amazonaws.com/sra-src/SRR11528307/ABS2-LN-R1_cleaned_paired.fastq.gz).  Given these reads and their Phred33 scores, can you assemble the genome?\n",
    "\n",
    "<b>Print out your assembled sequence, along with a brief explanation of how your algorithm works</b>\n",
    "\n",
    "This is an open-ended question. You are free to use any approach to deal with the issue. Make sure you provide your code, along with any assumptions you may have, in the cells below."
   ]
  },
  {
   "cell_type": "code",
   "execution_count": 26,
   "id": "02df427f",
   "metadata": {},
   "outputs": [
    {
     "name": "stdout",
     "output_type": "stream",
     "text": [
      "719807\n"
     ]
    }
   ],
   "source": [
    "sequences, q = utils.read_fastq('ABS2-LN-R1_cleaned_paired.fastq')\n",
    "print(len(sequences))"
   ]
  },
  {
   "cell_type": "code",
   "execution_count": 28,
   "id": "3621d910",
   "metadata": {},
   "outputs": [
    {
     "name": "stdout",
     "output_type": "stream",
     "text": [
      "25.0\n"
     ]
    }
   ],
   "source": [
    "# Calculate and print average Phred33 score\n",
    "average = 0\n",
    "total = 0\n",
    "for gen in q:\n",
    "    phred33 = ord(nuc) - 33\n",
    "    average += phred33\n",
    "    total += 1\n",
    "average = average/total\n",
    "print(average) # Q is 25, between 99% and 99.9% accuracy"
   ]
  },
  {
   "cell_type": "code",
   "execution_count": null,
   "id": "e6400225-7f65-466b-96f0-2607a377ad7e",
   "metadata": {},
   "outputs": [],
   "source": []
  }
 ],
 "metadata": {
  "kernelspec": {
   "display_name": "Python 3 (ipykernel)",
   "language": "python",
   "name": "python3"
  },
  "language_info": {
   "codemirror_mode": {
    "name": "ipython",
    "version": 3
   },
   "file_extension": ".py",
   "mimetype": "text/x-python",
   "name": "python",
   "nbconvert_exporter": "python",
   "pygments_lexer": "ipython3",
   "version": "3.9.12"
  }
 },
 "nbformat": 4,
 "nbformat_minor": 5
}
